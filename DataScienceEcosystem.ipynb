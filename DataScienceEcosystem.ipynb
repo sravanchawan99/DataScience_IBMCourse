{
  "cells": [
    {
      "cell_type": "markdown",
      "metadata": {
        "id": "6AkOv1sEvhJ-"
      },
      "source": [
        "# Data Science Tools and Ecosystem"
      ]
    },
    {
      "cell_type": "markdown",
      "metadata": {
        "id": "MwJbXeeDyHZP"
      },
      "source": [
        "In this notebook, Data Science Tools and Ecosystem are summarized."
      ]
    },
    {
      "cell_type": "markdown",
      "metadata": {
        "id": "9bkp8Gbo5sep"
      },
      "source": [
        "**Objectives:**\n",
        "* List popular languages for Data Science.\n",
        "* Describe common data science libraries and their uses.\n",
        "* Introduce Markdown formatting for creating clear and informative notebooks.\n",
        "* List Some Common tools which are used for DataScience\n",
        "* Practised some basic Arithmetic Operation"
      ]
    },
    {
      "cell_type": "markdown",
      "metadata": {
        "id": "Hp8hMXHIz5kn"
      },
      "source": [
        "Some of the commonly used libraries used by Data Scientists include:\n",
        "1. NumPy (Numerical Python)\n",
        "2. Pandas (Data Analysis)\n",
        "3. Matplotlib (Data Visualization)\n",
        "4. Julia\n",
        "5. JavaScript\n",
        "6. C++"
      ]
    },
    {
      "cell_type": "markdown",
      "metadata": {
        "id": "bXCDr94-0H_6"
      },
      "source": [
        "Some of the commonly used libraries used by Data Scientists include:\n",
        "1. NumPy (Numerical Python)\n",
        "2. Pandas (Data Analysis)\n",
        "3. Matplotlib (Data Visualization)\n",
        "4. Scikit-learn (Machine Learning)\n",
        "5. TensorFlow (Deep Learning)\n",
        "6. Seaborn (Statistical Data Visualization)"
      ]
    },
    {
      "cell_type": "markdown",
      "metadata": {
        "id": "DJkrPuj619GA"
      },
      "source": [
        "| Data Science Tools |\n",
        "|---|---|\n",
        "| Jupyter Notebook |\n",
        "| Visual Studio Code |\n",
        "| PyCharm |\n",
        "| Google Colaboratory |\n",
        "| Jupyter Lite |\n",
        "| R Studion |\n",
        "| IBM Watson Studion |"
      ]
    },
    {
      "cell_type": "markdown",
      "metadata": {
        "id": "aEwQ1zb02kEx"
      },
      "source": [
        "### Below are a few examples of evaluating arithmetic expressions in Python"
      ]
    },
    {
      "cell_type": "code",
      "execution_count": 3,
      "metadata": {
        "colab": {
          "base_uri": "https://localhost:8080/"
        },
        "id": "f6gyzdQI3KCj",
        "outputId": "2792f419-5d70-465c-ddb1-2b712ef3b0fb"
      },
      "outputs": [
        {
          "data": {
            "text/plain": [
              "17"
            ]
          },
          "execution_count": 3,
          "metadata": {},
          "output_type": "execute_result"
        }
      ],
      "source": [
        "(3*4)+5\n",
        "# This a simple arithmetic expression to mutiply then add integers."
      ]
    },
    {
      "cell_type": "code",
      "execution_count": 4,
      "metadata": {
        "colab": {
          "base_uri": "https://localhost:8080/"
        },
        "id": "A923HKct3mjN",
        "outputId": "f241eb8f-fd1d-4ba6-cf64-6873e6b3e179"
      },
      "outputs": [
        {
          "name": "stdout",
          "output_type": "stream",
          "text": [
            "3.33\n"
          ]
        }
      ],
      "source": [
        "minutes=200\n",
        "print(round((200/60),2))\n",
        "# This will convert 200 minutes to hours by diving by 60."
      ]
    },
    {
      "cell_type": "markdown",
      "metadata": {
        "id": "cu3D2wYx64p4"
      },
      "source": [
        "## Author:\n",
        "Sravan Kumar Chawan"
      ]
    }
  ],
  "metadata": {
    "colab": {
      "provenance": []
    },
    "kernelspec": {
      "display_name": "Python 3",
      "language": "python",
      "name": "python3"
    },
    "language_info": {
      "codemirror_mode": {
        "name": "ipython",
        "version": 3
      },
      "file_extension": ".py",
      "mimetype": "text/x-python",
      "name": "python",
      "nbconvert_exporter": "python",
      "pygments_lexer": "ipython3",
      "version": "3.9.6"
    }
  },
  "nbformat": 4,
  "nbformat_minor": 0
}
